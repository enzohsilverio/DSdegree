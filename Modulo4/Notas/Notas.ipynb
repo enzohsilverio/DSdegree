{
 "cells": [
  {
   "cell_type": "markdown",
   "metadata": {},
   "source": [
    "| Nome                                          | Prova | Projeto |\n",
    "|-----------------------------------------------|-------|---------|\n",
    "| Abdou Martins El Hage                         | 80    | 90      |\n",
    "| Alexandre   Belisário Duarte Leite de Andrade | 90    | 90      |\n",
    "| Alexandre   Macedo de Angelo                  | 90    | 95      |\n",
    "| Anderson   de Araujo Lima                     | 70    | 95      |\n",
    "| BRENO FERREIRA MARQUES                        |       | 90      |\n",
    "| Bruna   Silva Monteiro                        | 90    | 95      |\n",
    "| Bruno   Driussi Perrotta                      | 90    | 95      |\n",
    "| caio   francisco da cunha                     | 90    | 95      |\n",
    "| Carlos   Eduardo                              | 80    | 90      |\n",
    "| Carlos   Felipe Mothé Zarour                  | 90    | 90      |\n",
    "| Daniel   Pinheiro Machado                     | 100   | 95      |\n",
    "| Daniel   Rosa da Silva                        | 90    | 80      |\n",
    "| Daniela   Toledo Santana                      | 90    | 100     |\n",
    "| Denis   Roberto Laurito de Souza Guedes       | 80    | 70      |\n",
    "| Diego   de Mendonça Abreu                     | 100   | 90      |\n",
    "| Diego   Zilli Ruiz                            | 100   | 90      |\n",
    "| EDER   WILSON PUDIESI                         | 60    |         |\n",
    "| Edson   Soares da Rocha                       | 100   | 90      |\n",
    "| ENZO   HERNANDES SILVERIO                     | 100   | 90      |\n",
    "| Eugenio   Carlos Ventura Nunes da Silva       | 90    | 95      |\n",
    "| Fabio   Eduardo Toledo                        | 90    |         |\n",
    "| Fabio   Rodrigues Mendes                      | 100   | 85      |\n",
    "| Felipe   Gun Kim                              | 90    | 100     |\n",
    "| Gabriel Sasso Diniz                           |       |         |\n",
    "| Humberto   Carlos Monello                     | 70    | 100     |\n",
    "| Ivan   Cristian Vicente                       | 90    | 100     |\n",
    "| Jayme   Canashiro Augusto                     | 90    | 90      |\n",
    "| José   Luiz Alves dos Santos                  | 70    | 90      |\n",
    "| Leonardo   Souza do Ó                         | 80    | 95      |\n",
    "| Lucas   Lima Miranda e Silva                  | 100   | 95      |\n",
    "| LUIZ   MASSAO MUKAI                           | 100   | 80      |\n",
    "| Marco   Aurélio Frassi Orides                 | 90    | 100     |\n",
    "| natã   sebastião moreira neto                 | 60    | 70      |\n",
    "| Paulo   Odair Pointevin Frazao                | 90    | 95      |\n",
    "| Silas Costa Ferreira Junior                   |       |         |\n",
    "| Renato   Augusto Ricarti da Silva             | 90    | 90      |\n",
    "| tiago   galvao monteiro                       | 70    |         |\n",
    "| Wilian   da Silva Ricce                       | 100   | 80      |"
   ]
  }
 ],
 "metadata": {
  "kernelspec": {
   "display_name": "Python 3 (ipykernel)",
   "language": "python",
   "name": "python3"
  },
  "language_info": {
   "codemirror_mode": {
    "name": "ipython",
    "version": 3
   },
   "file_extension": ".py",
   "mimetype": "text/x-python",
   "name": "python",
   "nbconvert_exporter": "python",
   "pygments_lexer": "ipython3",
   "version": "3.9.7"
  },
  "varInspector": {
   "cols": {
    "lenName": 16,
    "lenType": 16,
    "lenVar": 40
   },
   "kernels_config": {
    "python": {
     "delete_cmd_postfix": "",
     "delete_cmd_prefix": "del ",
     "library": "var_list.py",
     "varRefreshCmd": "print(var_dic_list())"
    },
    "r": {
     "delete_cmd_postfix": ") ",
     "delete_cmd_prefix": "rm(",
     "library": "var_list.r",
     "varRefreshCmd": "cat(var_dic_list()) "
    }
   },
   "types_to_exclude": [
    "module",
    "function",
    "builtin_function_or_method",
    "instance",
    "_Feature"
   ],
   "window_display": false
  }
 },
 "nbformat": 4,
 "nbformat_minor": 2
}
