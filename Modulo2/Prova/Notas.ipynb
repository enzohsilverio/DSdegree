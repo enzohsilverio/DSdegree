{
 "cells": [
  {
   "cell_type": "markdown",
   "source": [
    "| NOME                                          | PROVA |\r\n",
    "|-----------------------------------------------|-------|\r\n",
    "| ABDOU EL HAGE                                 | 19    |\r\n",
    "| Alexandre Belisário Duarte Leite de   Andrade | 40    |\r\n",
    "| Alexandre Macedo de Angelo                    | 38    |\r\n",
    "| ALLAN DOS SANTOS VILELA                       | 29    |\r\n",
    "| Anderson de Araujo Lima                       | 39    |\r\n",
    "| André Pirovani Paraizo                        |       |\r\n",
    "| BRENO FERREIRA MARQUES                        |       |\r\n",
    "| Bruna Silva Monteiro                          | 36    |\r\n",
    "| Bruno Driussi Perrotta                        | 36    |\r\n",
    "| caio francisco da cunha                       | 39    |\r\n",
    "| Carlos Eduardo                                | 9     |\r\n",
    "| Carlos Felipe Mothé Zarour                    | 29    |\r\n",
    "| Claudio Marcio da Silva Pereira               |       |\r\n",
    "| Daniel Pinheiro Machado                       | 38    |\r\n",
    "| Daniel Rosa da Silva                          | 36    |\r\n",
    "| Daniela Toledo Santana                        | 38    |\r\n",
    "| Denis Roberto Laurito de Souza Guedes         | 11    |\r\n",
    "| Diego de Mendonça Abreu                       | 36    |\r\n",
    "| Diego Zilli Ruiz                              | 40    |\r\n",
    "| EDER WILSON PUDIESI                           | 32    |\r\n",
    "| Edson Soares da Rocha                         | 40    |\r\n",
    "| Elias Couto e Almeida Junior                  |       |\r\n",
    "| ENZO HERNANDES SILVERIO                       | 36    |\r\n",
    "| Eugenio Carlos Ventura Nunes da Silva         |       |\r\n",
    "| Fabio Eduardo Toledo                          | 21    |\r\n",
    "| Fabio Rodrigues Mendes                        | 39    |\r\n",
    "| Felipe Gun Kim                                | 37    |\r\n",
    "| Gabriel Sasso Diniz                           |       |\r\n",
    "| Humberto Carlos Monello                       | 35    |\r\n",
    "| Jayme Canashiro Augusto                       | 35    |\r\n",
    "| José Luiz Alves dos Santos                    | 38    |\r\n",
    "| Leonardo Souza do Ó                           | 23    |\r\n",
    "| Lucas Lima Miranda e Silva                    | 40    |\r\n",
    "| LUIZ MASSAO MUKAI                             | 30    |\r\n",
    "| Marco Aurelio Frassi Orides                   |       |\r\n",
    "| natã sebastião moreira neto                   | 21    |\r\n",
    "| Paulo Odair Pointevin Frazao                  | 9     |\r\n",
    "| Renato Augusto Ricarti da Silva               | 35    |\r\n",
    "| RONNI CAVALCANTE BARROS                       |       |\r\n",
    "| Silas Costa Ferreira Junior                   |       |\r\n",
    "| tiago galvao monteiro                         | 31    |\r\n",
    "| Wilian da Silva Ricce                         | 40    |\r\n",
    "| Ivan Cristian Vicente                         | 38    |"
   ],
   "metadata": {}
  }
 ],
 "metadata": {
  "orig_nbformat": 4,
  "language_info": {
   "name": "python"
  }
 },
 "nbformat": 4,
 "nbformat_minor": 2
}